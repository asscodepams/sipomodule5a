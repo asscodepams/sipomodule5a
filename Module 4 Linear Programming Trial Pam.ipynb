{
  "nbformat": 4,
  "nbformat_minor": 0,
  "metadata": {
    "colab": {
      "provenance": [],
      "authorship_tag": "ABX9TyOIqrUreaMc30CDZGLhGMEH",
      "include_colab_link": true
    },
    "kernelspec": {
      "name": "python3",
      "display_name": "Python 3"
    },
    "language_info": {
      "name": "python"
    }
  },
  "cells": [
    {
      "cell_type": "markdown",
      "metadata": {
        "id": "view-in-github",
        "colab_type": "text"
      },
      "source": [
        "<a href=\"https://colab.research.google.com/github/madliners/sipocodingtrial/blob/main/Module_4_Linear_Programming_Trial.ipynb\" target=\"_parent\"><img src=\"https://colab.research.google.com/assets/colab-badge.svg\" alt=\"Open In Colab\"/></a>"
      ]
    },
    {
      "cell_type": "code",
      "execution_count": 2,
      "metadata": {
        "colab": {
          "base_uri": "https://localhost:8080/"
        },
        "id": "wyKZu9_NR-O1",
        "outputId": "75c9adc9-5d3c-4792-c40c-508a17e9ffeb"
      },
      "outputs": [
        {
          "output_type": "stream",
          "name": "stdout",
          "text": [
            "Requirement already satisfied: pulp in /usr/local/lib/python3.10/dist-packages (2.8.0)\n"
          ]
        }
      ],
      "source": [
        "pip install pulp"
      ]
    },
    {
      "cell_type": "code",
      "source": [
        "import pulp"
      ],
      "metadata": {
        "id": "QYIkpsBQSVEr"
      },
      "execution_count": 3,
      "outputs": []
    },
    {
      "cell_type": "code",
      "source": [
        "#Define LP Objective\n",
        "model = pulp.LpProblem(\"Profit_Maximizing_Problem\", pulp.LpMaximize)"
      ],
      "metadata": {
        "id": "ccZVzxzySXF2"
      },
      "execution_count": 4,
      "outputs": []
    },
    {
      "cell_type": "code",
      "source": [
        "#Define Decision Variable\n",
        "X = pulp.LpVariable('X', lowBound=0, cat='integer')\n",
        "Y = pulp.LpVariable('Y', lowBound=0, cat='integer')\n",
        "Z = pulp.LpVariable('Z', lowBound=0, cat='integer')"
      ],
      "metadata": {
        "id": "8V2gjrvPSkUU"
      },
      "execution_count": 5,
      "outputs": []
    },
    {
      "cell_type": "code",
      "source": [
        "#Define Objective Function\n",
        "model +=9000*X + 16000*Y +20000*Z, \"Profit\""
      ],
      "metadata": {
        "id": "oz6GXMwbTDzO"
      },
      "execution_count": 6,
      "outputs": []
    },
    {
      "cell_type": "code",
      "source": [
        "#DEfine Constraint\n",
        "model += X>= 6\n",
        "model += Y>= 8\n",
        "model += Z>= 9\n",
        "model += 0.5*X + 1.5*Y + 1*Z <= 30"
      ],
      "metadata": {
        "id": "x1OYgcTJTTNw"
      },
      "execution_count": 7,
      "outputs": []
    },
    {
      "cell_type": "code",
      "source": [
        "model.solve()\n",
        "pulp.LpStatus[model.status]"
      ],
      "metadata": {
        "colab": {
          "base_uri": "https://localhost:8080/",
          "height": 36
        },
        "id": "3_tJBxYwTnBu",
        "outputId": "a0426a47-222e-4074-8ea0-26a70a926f8c"
      },
      "execution_count": 8,
      "outputs": [
        {
          "output_type": "execute_result",
          "data": {
            "text/plain": [
              "'Optimal'"
            ],
            "application/vnd.google.colaboratory.intrinsic+json": {
              "type": "string"
            }
          },
          "metadata": {},
          "execution_count": 8
        }
      ]
    },
    {
      "cell_type": "code",
      "source": [
        "#Final Decision\n",
        "print(\"Production of Espresso Machines X = \",X.varValue)\n",
        "print(\"Production of Espresso Machines Y = \",Y.varValue)\n",
        "print(\"Production of Espresso Machines Z = \",Z.varValue)"
      ],
      "metadata": {
        "colab": {
          "base_uri": "https://localhost:8080/"
        },
        "id": "Qw0r77-iTs64",
        "outputId": "e4a23e0e-ecf2-40df-dc7e-cd8f4c3ced59"
      },
      "execution_count": 9,
      "outputs": [
        {
          "output_type": "stream",
          "name": "stdout",
          "text": [
            "Production of Espresso Machines X =  6.0\n",
            "Production of Espresso Machines Y =  8.0\n",
            "Production of Espresso Machines Z =  15.0\n"
          ]
        }
      ]
    },
    {
      "cell_type": "code",
      "source": [
        "print(pulp.value(model.objective))"
      ],
      "metadata": {
        "colab": {
          "base_uri": "https://localhost:8080/"
        },
        "id": "dDswumixUNnR",
        "outputId": "c4cb4898-cc6c-4251-b2b8-e8bda5135476"
      },
      "execution_count": 10,
      "outputs": [
        {
          "output_type": "stream",
          "name": "stdout",
          "text": [
            "482000.0\n"
          ]
        }
      ]
    }
  ]
}
